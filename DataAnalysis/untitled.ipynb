{
 "cells": [
  {
   "cell_type": "code",
   "execution_count": 3,
   "id": "b2616c77",
   "metadata": {},
   "outputs": [],
   "source": [
    "import csv      # csv 파일 Reader 관련 선언\n",
    "f = open('C:/_dz/Study/Python/DataAnalysis/Source/인구통계데이터/gender.csv')   # 인구통계데이터 csv 파일 오픈\n",
    "data = csv.reader(f)        # 인구통계데이터 csv 파일 읽기\n",
    "\n",
    "sLocation = '의정부시 신곡1동'        # 검색할 지역 변수 선언\n",
    "m = []      # 남성데이터 배열변수 선언\n",
    "f = []      # 여성데이터 배열변수 선언\n",
    "\n",
    "for row in data:                    # 전 지역의 데이터가 있으므로, 미사1동이 있을때까지 Loop\n",
    "    if sLocation in row[0]:\n",
    "        for i in row[3:104]:        # 3 ~ 103 (남자1살 ~ 남자100살)\n",
    "            m.append(-int(i))       # 그래프 왼쪽으로 표시 되도록 (음수) / 검색 된 값에 -를 붙인다.\n",
    "        for i in row[106:207]:      # 106 ~   (여자1살 ~ 여자100살)\n",
    "            f.append(int(i))        # 그래프 오른쪽으로 표시되록 (양수)\n",
    "            \n",
    "import matplotlib.pyplot as plt                    # 데이터 시각화(그래프) 관련 선언\n",
    "plt.rc('font', family = 'Malgun Gothic')           # 표시되는 폰트종류를 지정 (한글 깨짐 방지)\n",
    "plt.rcParams['axes.unicode_minus'] = False         # - 기호 깨짐 방지\n",
    "plt.title(sLocation + ' 지역의 남녀 성별 인구 분포')       # 그래프 제목\n",
    "plt.barh(range(101), m, label = '남성')             # 남성 가로바 그래프 생성 (range(101) => y좌표 0 ~ 100)\n",
    "plt.barh(range(101), f, label = '여성')             # 여성 가로바 그래프 생성 (range(101) => y좌표 0 ~ 100)\n",
    "plt.legend()                                       # 남/여 구분 범례표시\n",
    "plt.show()                                         # 그래프 표시"
   ]
  },
  {
   "cell_type": "code",
   "execution_count": null,
   "id": "9b485ae8",
   "metadata": {},
   "outputs": [],
   "source": []
  }
 ],
 "metadata": {
  "kernelspec": {
   "display_name": "Python 3 (ipykernel)",
   "language": "python",
   "name": "python3"
  },
  "language_info": {
   "codemirror_mode": {
    "name": "ipython",
    "version": 3
   },
   "file_extension": ".py",
   "mimetype": "text/x-python",
   "name": "python",
   "nbconvert_exporter": "python",
   "pygments_lexer": "ipython3",
   "version": "3.9.7"
  }
 },
 "nbformat": 4,
 "nbformat_minor": 5
}
